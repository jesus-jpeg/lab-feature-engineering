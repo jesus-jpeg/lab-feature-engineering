{
 "cells": [
  {
   "cell_type": "markdown",
   "id": "a289ad0e",
   "metadata": {},
   "source": [
    "![logo_ironhack_blue 7](https://user-images.githubusercontent.com/23629340/40541063-a07a0a8a-601a-11e8-91b5-2f13e4e6b441.png)\n",
    "\n",
    "# Lab | Feature engineering\n",
    "\n",
    "- In this lab, you will use `learningSet.csv` file which you have already cloned in the previous activities. \n",
    "\n",
    "### Instructions\n",
    "\n",
    "Here we will work on cleaning some of the other columns in the dataset using the techniques that we used before in the lessons.\n",
    "\n",
    "- Check for null values in the numerical columns.\n",
    "- Use appropriate methods to clean the columns `GEOCODE2`, `WEALTH1`, `ADI`, `DMA`,and `MSA`.\n",
    "- Use appropriate EDA technique where ever necessary.\n",
    "\n",
    "\n"
   ]
  },
  {
   "cell_type": "code",
   "execution_count": 1,
   "id": "cd2dba14",
   "metadata": {},
   "outputs": [],
   "source": [
    "import pandas as pd\n",
    "import numpy as np\n",
    "import datetime\n",
    "import warnings\n",
    "import matplotlib.pyplot as plt\n",
    "import seaborn as sns\n",
    "\n",
    "warnings.filterwarnings('ignore')"
   ]
  },
  {
   "cell_type": "code",
   "execution_count": 52,
   "id": "661d1127",
   "metadata": {},
   "outputs": [],
   "source": [
    "data = pd.read_csv('learningSet.csv')\n",
    "data2 = pd.read_csv('learningSet.csv')"
   ]
  },
  {
   "cell_type": "code",
   "execution_count": 3,
   "id": "78c52455",
   "metadata": {
    "scrolled": true
   },
   "outputs": [
    {
     "data": {
      "text/html": [
       "<div>\n",
       "<style scoped>\n",
       "    .dataframe tbody tr th:only-of-type {\n",
       "        vertical-align: middle;\n",
       "    }\n",
       "\n",
       "    .dataframe tbody tr th {\n",
       "        vertical-align: top;\n",
       "    }\n",
       "\n",
       "    .dataframe thead th {\n",
       "        text-align: right;\n",
       "    }\n",
       "</style>\n",
       "<table border=\"1\" class=\"dataframe\">\n",
       "  <thead>\n",
       "    <tr style=\"text-align: right;\">\n",
       "      <th></th>\n",
       "      <th>ODATEDW</th>\n",
       "      <th>OSOURCE</th>\n",
       "      <th>TCODE</th>\n",
       "      <th>STATE</th>\n",
       "      <th>ZIP</th>\n",
       "      <th>MAILCODE</th>\n",
       "      <th>PVASTATE</th>\n",
       "      <th>DOB</th>\n",
       "      <th>NOEXCH</th>\n",
       "      <th>RECINHSE</th>\n",
       "      <th>...</th>\n",
       "      <th>TARGET_D</th>\n",
       "      <th>HPHONE_D</th>\n",
       "      <th>RFA_2R</th>\n",
       "      <th>RFA_2F</th>\n",
       "      <th>RFA_2A</th>\n",
       "      <th>MDMAUD_R</th>\n",
       "      <th>MDMAUD_F</th>\n",
       "      <th>MDMAUD_A</th>\n",
       "      <th>CLUSTER2</th>\n",
       "      <th>GEOCODE2</th>\n",
       "    </tr>\n",
       "  </thead>\n",
       "  <tbody>\n",
       "    <tr>\n",
       "      <th>0</th>\n",
       "      <td>8901</td>\n",
       "      <td>GRI</td>\n",
       "      <td>0</td>\n",
       "      <td>IL</td>\n",
       "      <td>61081</td>\n",
       "      <td></td>\n",
       "      <td></td>\n",
       "      <td>3712</td>\n",
       "      <td>0</td>\n",
       "      <td></td>\n",
       "      <td>...</td>\n",
       "      <td>0.0</td>\n",
       "      <td>0</td>\n",
       "      <td>L</td>\n",
       "      <td>4</td>\n",
       "      <td>E</td>\n",
       "      <td>X</td>\n",
       "      <td>X</td>\n",
       "      <td>X</td>\n",
       "      <td>39.0</td>\n",
       "      <td>C</td>\n",
       "    </tr>\n",
       "    <tr>\n",
       "      <th>1</th>\n",
       "      <td>9401</td>\n",
       "      <td>BOA</td>\n",
       "      <td>1</td>\n",
       "      <td>CA</td>\n",
       "      <td>91326</td>\n",
       "      <td></td>\n",
       "      <td></td>\n",
       "      <td>5202</td>\n",
       "      <td>0</td>\n",
       "      <td></td>\n",
       "      <td>...</td>\n",
       "      <td>0.0</td>\n",
       "      <td>0</td>\n",
       "      <td>L</td>\n",
       "      <td>2</td>\n",
       "      <td>G</td>\n",
       "      <td>X</td>\n",
       "      <td>X</td>\n",
       "      <td>X</td>\n",
       "      <td>1.0</td>\n",
       "      <td>A</td>\n",
       "    </tr>\n",
       "    <tr>\n",
       "      <th>2</th>\n",
       "      <td>9001</td>\n",
       "      <td>AMH</td>\n",
       "      <td>1</td>\n",
       "      <td>NC</td>\n",
       "      <td>27017</td>\n",
       "      <td></td>\n",
       "      <td></td>\n",
       "      <td>0</td>\n",
       "      <td>0</td>\n",
       "      <td></td>\n",
       "      <td>...</td>\n",
       "      <td>0.0</td>\n",
       "      <td>1</td>\n",
       "      <td>L</td>\n",
       "      <td>4</td>\n",
       "      <td>E</td>\n",
       "      <td>X</td>\n",
       "      <td>X</td>\n",
       "      <td>X</td>\n",
       "      <td>60.0</td>\n",
       "      <td>C</td>\n",
       "    </tr>\n",
       "    <tr>\n",
       "      <th>3</th>\n",
       "      <td>8701</td>\n",
       "      <td>BRY</td>\n",
       "      <td>0</td>\n",
       "      <td>CA</td>\n",
       "      <td>95953</td>\n",
       "      <td></td>\n",
       "      <td></td>\n",
       "      <td>2801</td>\n",
       "      <td>0</td>\n",
       "      <td></td>\n",
       "      <td>...</td>\n",
       "      <td>0.0</td>\n",
       "      <td>1</td>\n",
       "      <td>L</td>\n",
       "      <td>4</td>\n",
       "      <td>E</td>\n",
       "      <td>X</td>\n",
       "      <td>X</td>\n",
       "      <td>X</td>\n",
       "      <td>41.0</td>\n",
       "      <td>C</td>\n",
       "    </tr>\n",
       "    <tr>\n",
       "      <th>4</th>\n",
       "      <td>8601</td>\n",
       "      <td></td>\n",
       "      <td>0</td>\n",
       "      <td>FL</td>\n",
       "      <td>33176</td>\n",
       "      <td></td>\n",
       "      <td></td>\n",
       "      <td>2001</td>\n",
       "      <td>0</td>\n",
       "      <td>X</td>\n",
       "      <td>...</td>\n",
       "      <td>0.0</td>\n",
       "      <td>1</td>\n",
       "      <td>L</td>\n",
       "      <td>2</td>\n",
       "      <td>F</td>\n",
       "      <td>X</td>\n",
       "      <td>X</td>\n",
       "      <td>X</td>\n",
       "      <td>26.0</td>\n",
       "      <td>A</td>\n",
       "    </tr>\n",
       "  </tbody>\n",
       "</table>\n",
       "<p>5 rows × 481 columns</p>\n",
       "</div>"
      ],
      "text/plain": [
       "   ODATEDW OSOURCE  TCODE STATE    ZIP MAILCODE PVASTATE   DOB NOEXCH  \\\n",
       "0     8901     GRI      0    IL  61081                    3712      0   \n",
       "1     9401     BOA      1    CA  91326                    5202      0   \n",
       "2     9001     AMH      1    NC  27017                       0      0   \n",
       "3     8701     BRY      0    CA  95953                    2801      0   \n",
       "4     8601              0    FL  33176                    2001      0   \n",
       "\n",
       "  RECINHSE  ... TARGET_D HPHONE_D RFA_2R RFA_2F RFA_2A MDMAUD_R  MDMAUD_F  \\\n",
       "0           ...      0.0        0      L      4      E        X         X   \n",
       "1           ...      0.0        0      L      2      G        X         X   \n",
       "2           ...      0.0        1      L      4      E        X         X   \n",
       "3           ...      0.0        1      L      4      E        X         X   \n",
       "4        X  ...      0.0        1      L      2      F        X         X   \n",
       "\n",
       "  MDMAUD_A CLUSTER2 GEOCODE2  \n",
       "0        X     39.0        C  \n",
       "1        X      1.0        A  \n",
       "2        X     60.0        C  \n",
       "3        X     41.0        C  \n",
       "4        X     26.0        A  \n",
       "\n",
       "[5 rows x 481 columns]"
      ]
     },
     "execution_count": 3,
     "metadata": {},
     "output_type": "execute_result"
    }
   ],
   "source": [
    "data.head()"
   ]
  },
  {
   "cell_type": "markdown",
   "id": "16b7c925",
   "metadata": {},
   "source": [
    "### Taking numericals"
   ]
  },
  {
   "cell_type": "code",
   "execution_count": 4,
   "id": "fdb6ade7",
   "metadata": {},
   "outputs": [],
   "source": [
    "numerical = data.select_dtypes(np.number)"
   ]
  },
  {
   "cell_type": "code",
   "execution_count": 8,
   "id": "3b92d762",
   "metadata": {
    "scrolled": true
   },
   "outputs": [
    {
     "data": {
      "text/html": [
       "<div>\n",
       "<style scoped>\n",
       "    .dataframe tbody tr th:only-of-type {\n",
       "        vertical-align: middle;\n",
       "    }\n",
       "\n",
       "    .dataframe tbody tr th {\n",
       "        vertical-align: top;\n",
       "    }\n",
       "\n",
       "    .dataframe thead th {\n",
       "        text-align: right;\n",
       "    }\n",
       "</style>\n",
       "<table border=\"1\" class=\"dataframe\">\n",
       "  <thead>\n",
       "    <tr style=\"text-align: right;\">\n",
       "      <th></th>\n",
       "      <th>ODATEDW</th>\n",
       "      <th>TCODE</th>\n",
       "      <th>DOB</th>\n",
       "      <th>AGE</th>\n",
       "      <th>NUMCHLD</th>\n",
       "      <th>INCOME</th>\n",
       "      <th>WEALTH1</th>\n",
       "      <th>HIT</th>\n",
       "      <th>MBCRAFT</th>\n",
       "      <th>MBGARDEN</th>\n",
       "      <th>...</th>\n",
       "      <th>FISTDATE</th>\n",
       "      <th>NEXTDATE</th>\n",
       "      <th>TIMELAG</th>\n",
       "      <th>AVGGIFT</th>\n",
       "      <th>CONTROLN</th>\n",
       "      <th>TARGET_B</th>\n",
       "      <th>TARGET_D</th>\n",
       "      <th>HPHONE_D</th>\n",
       "      <th>RFA_2F</th>\n",
       "      <th>CLUSTER2</th>\n",
       "    </tr>\n",
       "  </thead>\n",
       "  <tbody>\n",
       "    <tr>\n",
       "      <th>0</th>\n",
       "      <td>8901</td>\n",
       "      <td>0</td>\n",
       "      <td>3712</td>\n",
       "      <td>60.0</td>\n",
       "      <td>NaN</td>\n",
       "      <td>NaN</td>\n",
       "      <td>NaN</td>\n",
       "      <td>0</td>\n",
       "      <td>NaN</td>\n",
       "      <td>NaN</td>\n",
       "      <td>...</td>\n",
       "      <td>8911</td>\n",
       "      <td>9003.0</td>\n",
       "      <td>4.0</td>\n",
       "      <td>7.741935</td>\n",
       "      <td>95515</td>\n",
       "      <td>0</td>\n",
       "      <td>0.0</td>\n",
       "      <td>0</td>\n",
       "      <td>4</td>\n",
       "      <td>39.0</td>\n",
       "    </tr>\n",
       "    <tr>\n",
       "      <th>1</th>\n",
       "      <td>9401</td>\n",
       "      <td>1</td>\n",
       "      <td>5202</td>\n",
       "      <td>46.0</td>\n",
       "      <td>1.0</td>\n",
       "      <td>6.0</td>\n",
       "      <td>9.0</td>\n",
       "      <td>16</td>\n",
       "      <td>0.0</td>\n",
       "      <td>0.0</td>\n",
       "      <td>...</td>\n",
       "      <td>9310</td>\n",
       "      <td>9504.0</td>\n",
       "      <td>18.0</td>\n",
       "      <td>15.666667</td>\n",
       "      <td>148535</td>\n",
       "      <td>0</td>\n",
       "      <td>0.0</td>\n",
       "      <td>0</td>\n",
       "      <td>2</td>\n",
       "      <td>1.0</td>\n",
       "    </tr>\n",
       "    <tr>\n",
       "      <th>2</th>\n",
       "      <td>9001</td>\n",
       "      <td>1</td>\n",
       "      <td>0</td>\n",
       "      <td>NaN</td>\n",
       "      <td>NaN</td>\n",
       "      <td>3.0</td>\n",
       "      <td>1.0</td>\n",
       "      <td>2</td>\n",
       "      <td>0.0</td>\n",
       "      <td>0.0</td>\n",
       "      <td>...</td>\n",
       "      <td>9001</td>\n",
       "      <td>9101.0</td>\n",
       "      <td>12.0</td>\n",
       "      <td>7.481481</td>\n",
       "      <td>15078</td>\n",
       "      <td>0</td>\n",
       "      <td>0.0</td>\n",
       "      <td>1</td>\n",
       "      <td>4</td>\n",
       "      <td>60.0</td>\n",
       "    </tr>\n",
       "    <tr>\n",
       "      <th>3</th>\n",
       "      <td>8701</td>\n",
       "      <td>0</td>\n",
       "      <td>2801</td>\n",
       "      <td>70.0</td>\n",
       "      <td>NaN</td>\n",
       "      <td>1.0</td>\n",
       "      <td>4.0</td>\n",
       "      <td>2</td>\n",
       "      <td>0.0</td>\n",
       "      <td>0.0</td>\n",
       "      <td>...</td>\n",
       "      <td>8702</td>\n",
       "      <td>8711.0</td>\n",
       "      <td>9.0</td>\n",
       "      <td>6.812500</td>\n",
       "      <td>172556</td>\n",
       "      <td>0</td>\n",
       "      <td>0.0</td>\n",
       "      <td>1</td>\n",
       "      <td>4</td>\n",
       "      <td>41.0</td>\n",
       "    </tr>\n",
       "    <tr>\n",
       "      <th>4</th>\n",
       "      <td>8601</td>\n",
       "      <td>0</td>\n",
       "      <td>2001</td>\n",
       "      <td>78.0</td>\n",
       "      <td>1.0</td>\n",
       "      <td>3.0</td>\n",
       "      <td>2.0</td>\n",
       "      <td>60</td>\n",
       "      <td>1.0</td>\n",
       "      <td>0.0</td>\n",
       "      <td>...</td>\n",
       "      <td>7903</td>\n",
       "      <td>8005.0</td>\n",
       "      <td>14.0</td>\n",
       "      <td>6.864865</td>\n",
       "      <td>7112</td>\n",
       "      <td>0</td>\n",
       "      <td>0.0</td>\n",
       "      <td>1</td>\n",
       "      <td>2</td>\n",
       "      <td>26.0</td>\n",
       "    </tr>\n",
       "  </tbody>\n",
       "</table>\n",
       "<p>5 rows × 407 columns</p>\n",
       "</div>"
      ],
      "text/plain": [
       "   ODATEDW  TCODE   DOB   AGE  NUMCHLD  INCOME  WEALTH1  HIT  MBCRAFT  \\\n",
       "0     8901      0  3712  60.0      NaN     NaN      NaN    0      NaN   \n",
       "1     9401      1  5202  46.0      1.0     6.0      9.0   16      0.0   \n",
       "2     9001      1     0   NaN      NaN     3.0      1.0    2      0.0   \n",
       "3     8701      0  2801  70.0      NaN     1.0      4.0    2      0.0   \n",
       "4     8601      0  2001  78.0      1.0     3.0      2.0   60      1.0   \n",
       "\n",
       "   MBGARDEN  ...  FISTDATE  NEXTDATE  TIMELAG    AVGGIFT  CONTROLN  TARGET_B  \\\n",
       "0       NaN  ...      8911    9003.0      4.0   7.741935     95515         0   \n",
       "1       0.0  ...      9310    9504.0     18.0  15.666667    148535         0   \n",
       "2       0.0  ...      9001    9101.0     12.0   7.481481     15078         0   \n",
       "3       0.0  ...      8702    8711.0      9.0   6.812500    172556         0   \n",
       "4       0.0  ...      7903    8005.0     14.0   6.864865      7112         0   \n",
       "\n",
       "   TARGET_D  HPHONE_D  RFA_2F  CLUSTER2  \n",
       "0       0.0         0       4      39.0  \n",
       "1       0.0         0       2       1.0  \n",
       "2       0.0         1       4      60.0  \n",
       "3       0.0         1       4      41.0  \n",
       "4       0.0         1       2      26.0  \n",
       "\n",
       "[5 rows x 407 columns]"
      ]
     },
     "execution_count": 8,
     "metadata": {},
     "output_type": "execute_result"
    }
   ],
   "source": [
    "numerical.head()"
   ]
  },
  {
   "cell_type": "markdown",
   "id": "daaca38f",
   "metadata": {},
   "source": [
    "### Checking nulls"
   ]
  },
  {
   "cell_type": "code",
   "execution_count": 17,
   "id": "2efef3b0",
   "metadata": {},
   "outputs": [],
   "source": [
    "nulls = numerical.isna().sum()"
   ]
  },
  {
   "cell_type": "code",
   "execution_count": 22,
   "id": "10ae26be",
   "metadata": {
    "scrolled": false
   },
   "outputs": [
    {
     "data": {
      "text/plain": [
       "AGE         23665\n",
       "NUMCHLD     83026\n",
       "INCOME      21286\n",
       "WEALTH1     44732\n",
       "MBCRAFT     52854\n",
       "            ...  \n",
       "RAMNT_23    87553\n",
       "RAMNT_24    77674\n",
       "NEXTDATE     9973\n",
       "TIMELAG      9973\n",
       "CLUSTER2      132\n",
       "Length: 91, dtype: int64"
      ]
     },
     "execution_count": 22,
     "metadata": {},
     "output_type": "execute_result"
    }
   ],
   "source": [
    "nulls[nulls>0]\n",
    "#There are 91 columns with nulls"
   ]
  },
  {
   "cell_type": "markdown",
   "id": "1e6b4946",
   "metadata": {},
   "source": [
    "# Now we are going to deal with these columns"
   ]
  },
  {
   "cell_type": "markdown",
   "id": "1e368376",
   "metadata": {},
   "source": [
    "## <span style=\"color:BLUE\"> GEOCODE2</span>\n",
    "Geo Cluster Code indicating the level geography at which a record matches the census data. A nominal or symbolic field.\n",
    "Blank=No code has been assigned or did not match at any level."
   ]
  },
  {
   "cell_type": "code",
   "execution_count": 25,
   "id": "356ec947",
   "metadata": {
    "scrolled": false
   },
   "outputs": [
    {
     "data": {
      "text/plain": [
       "A    34484\n",
       "B    28505\n",
       "D    16580\n",
       "C    15524\n",
       "       187\n",
       "Name: GEOCODE2, dtype: int64"
      ]
     },
     "execution_count": 25,
     "metadata": {},
     "output_type": "execute_result"
    }
   ],
   "source": [
    "data.GEOCODE2.value_counts()"
   ]
  },
  {
   "cell_type": "code",
   "execution_count": 33,
   "id": "e0efac10",
   "metadata": {},
   "outputs": [
    {
     "data": {
      "text/plain": [
       "132"
      ]
     },
     "execution_count": 33,
     "metadata": {},
     "output_type": "execute_result"
    }
   ],
   "source": [
    "data.GEOCODE2.isna().sum()"
   ]
  },
  {
   "cell_type": "markdown",
   "id": "e5b9bb0a",
   "metadata": {},
   "source": [
    "## <span style=\"color:GREEN\"> WEALTH1</span>\n",
    "It means wealth rating"
   ]
  },
  {
   "cell_type": "code",
   "execution_count": 26,
   "id": "18bf28f2",
   "metadata": {
    "scrolled": true
   },
   "outputs": [
    {
     "data": {
      "text/plain": [
       "9.0    7585\n",
       "8.0    6793\n",
       "7.0    6198\n",
       "6.0    5825\n",
       "5.0    5280\n",
       "4.0    4810\n",
       "3.0    4237\n",
       "2.0    4085\n",
       "1.0    3454\n",
       "0.0    2413\n",
       "Name: WEALTH1, dtype: int64"
      ]
     },
     "execution_count": 26,
     "metadata": {},
     "output_type": "execute_result"
    }
   ],
   "source": [
    "data.WEALTH1.value_counts()"
   ]
  },
  {
   "cell_type": "code",
   "execution_count": 34,
   "id": "12916e2c",
   "metadata": {},
   "outputs": [
    {
     "data": {
      "text/plain": [
       "44732"
      ]
     },
     "execution_count": 34,
     "metadata": {},
     "output_type": "execute_result"
    }
   ],
   "source": [
    "data.WEALTH1.isna().sum()"
   ]
  },
  {
   "cell_type": "markdown",
   "id": "7e889b63",
   "metadata": {},
   "source": [
    "## <span style=\"color:pink\"> ADI</span>\n",
    "ADI stands for Area of Dominant Influence. It is a geographic region that represents the television market area for a particular city or urban center in the United States. ADI is used in media research and advertising to define the primary market area in which a television station broadcasts and captures its audience.\n"
   ]
  },
  {
   "cell_type": "code",
   "execution_count": 27,
   "id": "a29b2034",
   "metadata": {
    "scrolled": false
   },
   "outputs": [
    {
     "data": {
      "text/plain": [
       "13.0     7296\n",
       "51.0     4622\n",
       "65.0     3765\n",
       "57.0     2836\n",
       "105.0    2617\n",
       "         ... \n",
       "651.0       1\n",
       "103.0       1\n",
       "601.0       1\n",
       "161.0       1\n",
       "147.0       1\n",
       "Name: ADI, Length: 204, dtype: int64"
      ]
     },
     "execution_count": 27,
     "metadata": {},
     "output_type": "execute_result"
    }
   ],
   "source": [
    "data.ADI.value_counts()"
   ]
  },
  {
   "cell_type": "code",
   "execution_count": 35,
   "id": "064a9e7a",
   "metadata": {},
   "outputs": [
    {
     "data": {
      "text/plain": [
       "132"
      ]
     },
     "execution_count": 35,
     "metadata": {},
     "output_type": "execute_result"
    }
   ],
   "source": [
    "data.ADI.isna().sum()"
   ]
  },
  {
   "cell_type": "markdown",
   "id": "ce9a03ed",
   "metadata": {},
   "source": [
    "## <span style=\"color:purple\"> DMA</span>\n",
    "DMA code stands for Designated Market Area code. It is a unique identifier used in media research and advertising to define specific television and radio markets in the United States. DMA codes are assigned by Nielsen Media Research based on viewership patterns and geographic boundaries."
   ]
  },
  {
   "cell_type": "code",
   "execution_count": 28,
   "id": "f0a02ab8",
   "metadata": {
    "scrolled": false
   },
   "outputs": [
    {
     "data": {
      "text/plain": [
       "803.0    7296\n",
       "602.0    4632\n",
       "807.0    3765\n",
       "505.0    2839\n",
       "819.0    2588\n",
       "         ... \n",
       "569.0       1\n",
       "554.0       1\n",
       "584.0       1\n",
       "552.0       1\n",
       "516.0       1\n",
       "Name: DMA, Length: 206, dtype: int64"
      ]
     },
     "execution_count": 28,
     "metadata": {},
     "output_type": "execute_result"
    }
   ],
   "source": [
    "data.DMA.value_counts()"
   ]
  },
  {
   "cell_type": "code",
   "execution_count": 36,
   "id": "12856568",
   "metadata": {},
   "outputs": [
    {
     "data": {
      "text/plain": [
       "132"
      ]
     },
     "execution_count": 36,
     "metadata": {},
     "output_type": "execute_result"
    }
   ],
   "source": [
    "data.DMA.isna().sum()"
   ]
  },
  {
   "cell_type": "markdown",
   "id": "1739bd4e",
   "metadata": {},
   "source": [
    "## <span style=\"color:lightblue\"> MSA</span>\n",
    "\n",
    "MSA stands for Metropolitan Statistical Area. It is a geographic region defined by the U.S. Office of Management and Budget (OMB) for statistical and data collection purposes. MSAs are used to measure and analyze economic and social trends in specific urban areas in the United States."
   ]
  },
  {
   "cell_type": "code",
   "execution_count": 29,
   "id": "1e4d471f",
   "metadata": {
    "scrolled": true
   },
   "outputs": [
    {
     "data": {
      "text/plain": [
       "0.0       21333\n",
       "4480.0     4606\n",
       "1600.0     4059\n",
       "2160.0     2586\n",
       "520.0      1685\n",
       "          ...  \n",
       "9140.0        1\n",
       "3200.0        1\n",
       "9280.0        1\n",
       "743.0         1\n",
       "8480.0        1\n",
       "Name: MSA, Length: 298, dtype: int64"
      ]
     },
     "execution_count": 29,
     "metadata": {},
     "output_type": "execute_result"
    }
   ],
   "source": [
    "data.MSA.value_counts()"
   ]
  },
  {
   "cell_type": "code",
   "execution_count": 37,
   "id": "f74d7f48",
   "metadata": {},
   "outputs": [
    {
     "data": {
      "text/plain": [
       "132"
      ]
     },
     "execution_count": 37,
     "metadata": {},
     "output_type": "execute_result"
    }
   ],
   "source": [
    "data.MSA.isna().sum()"
   ]
  },
  {
   "cell_type": "markdown",
   "id": "708757ed",
   "metadata": {},
   "source": [
    "We can see that ADI, DMA, and MSA depends on GEOCODE2, because they have the same amount of NaNs. Not having GEOCODE leads to not having DMA, MSA and ADI codes. We are going to prove that:"
   ]
  },
  {
   "cell_type": "code",
   "execution_count": 40,
   "id": "053e3fb1",
   "metadata": {},
   "outputs": [],
   "source": [
    "data.dropna(subset=['GEOCODE2'], inplace=True)"
   ]
  },
  {
   "cell_type": "code",
   "execution_count": 43,
   "id": "b0abebce",
   "metadata": {},
   "outputs": [
    {
     "name": "stdout",
     "output_type": "stream",
     "text": [
      "DMA NaNs: 0\n",
      "MSA NaNs: 0\n",
      "ADI NaNs: 0\n"
     ]
    }
   ],
   "source": [
    "print(\"DMA NaNs:\", data.DMA.isna().sum())\n",
    "print(\"MSA NaNs:\", data.MSA.isna().sum())\n",
    "print(\"ADI NaNs:\", data.ADI.isna().sum())"
   ]
  },
  {
   "cell_type": "markdown",
   "id": "c69eac03",
   "metadata": {},
   "source": [
    "We dropped GEOCODE rows with NaNs and we also got rid of DMA, MSA and ADI NaNs, so it justifies what we said before."
   ]
  },
  {
   "cell_type": "markdown",
   "id": "9c932beb",
   "metadata": {},
   "source": [
    "But now, what happens with the rows that had empty values in GEOCODE, what value do they have in MSA, ADI and DMA?"
   ]
  },
  {
   "cell_type": "code",
   "execution_count": 49,
   "id": "9cb4247e",
   "metadata": {
    "scrolled": false
   },
   "outputs": [
    {
     "name": "stdout",
     "output_type": "stream",
     "text": [
      "      GEOCODE2  DMA  ADI  MSA\n",
      "183             0.0  0.0  0.0\n",
      "262             0.0  0.0  0.0\n",
      "399             0.0  0.0  0.0\n",
      "945             0.0  0.0  0.0\n",
      "1137            0.0  0.0  0.0\n",
      "...        ...  ...  ...  ...\n",
      "93162           0.0  0.0  0.0\n",
      "93344           0.0  0.0  0.0\n",
      "94971           0.0  0.0  0.0\n",
      "95019           0.0  0.0  0.0\n",
      "95183           0.0  0.0  0.0\n",
      "\n",
      "[187 rows x 4 columns]\n"
     ]
    }
   ],
   "source": [
    "selected_columns = data.loc[data['GEOCODE2'] == ' ', ['GEOCODE2', 'DMA', 'ADI', 'MSA']]\n",
    "\n",
    "print(selected_columns)b\n"
   ]
  },
  {
   "cell_type": "markdown",
   "id": "814b3d86",
   "metadata": {},
   "source": [
    "So, when we do not have the GEOCODE2, the values of the codes are 0. SO I think that we should do the same instead, we will replace empty and NaN values of GEOCODE with an U (Unknown) and the NaNs of MSA, DMA and ADI with zeros."
   ]
  },
  {
   "cell_type": "code",
   "execution_count": null,
   "id": "e6e86fe7",
   "metadata": {},
   "outputs": [],
   "source": [
    "data2['GEOCODE2'].fillna('U', inplace=True)\n",
    "data2['GEOCODE2'].replace(' ', 'U', inplace=True)\n",
    "\n",
    "columns_to_fill = ['DMA', 'MSA', 'ADI']\n",
    "data2[columns_to_fill] = data2[columns_to_fill].fillna(0)\n",
    "data2[columns_to_fill] = data2[columns_to_fill].replace(' ', 0)\n",
    "\n",
    "print(data2[columns_to_fill])"
   ]
  },
  {
   "cell_type": "code",
   "execution_count": 61,
   "id": "5048b5a2",
   "metadata": {},
   "outputs": [
    {
     "name": "stdout",
     "output_type": "stream",
     "text": [
      "GEOCODE2 NaNs: 0\n",
      "DMA NaNs: 0\n",
      "MSA NaNs: 0\n",
      "ADI NaNs: 0\n"
     ]
    }
   ],
   "source": [
    "print(\"GEOCODE2 NaNs:\", data2.GEOCODE2.isna().sum())\n",
    "print(\"DMA NaNs:\", data2.DMA.isna().sum())\n",
    "print(\"MSA NaNs:\", data2.MSA.isna().sum())\n",
    "print(\"ADI NaNs:\", data2.ADI.isna().sum())"
   ]
  },
  {
   "cell_type": "code",
   "execution_count": 101,
   "id": "a10b3930",
   "metadata": {},
   "outputs": [
    {
     "data": {
      "text/plain": [
       "A    34484\n",
       "B    28505\n",
       "D    16580\n",
       "C    15524\n",
       "U      319\n",
       "Name: GEOCODE2, dtype: int64"
      ]
     },
     "execution_count": 101,
     "metadata": {},
     "output_type": "execute_result"
    }
   ],
   "source": [
    "data2.GEOCODE2.value_counts()"
   ]
  },
  {
   "cell_type": "code",
   "execution_count": 62,
   "id": "5d440fcd",
   "metadata": {
    "scrolled": false
   },
   "outputs": [
    {
     "data": {
      "text/html": [
       "<div>\n",
       "<style scoped>\n",
       "    .dataframe tbody tr th:only-of-type {\n",
       "        vertical-align: middle;\n",
       "    }\n",
       "\n",
       "    .dataframe tbody tr th {\n",
       "        vertical-align: top;\n",
       "    }\n",
       "\n",
       "    .dataframe thead th {\n",
       "        text-align: right;\n",
       "    }\n",
       "</style>\n",
       "<table border=\"1\" class=\"dataframe\">\n",
       "  <thead>\n",
       "    <tr style=\"text-align: right;\">\n",
       "      <th></th>\n",
       "      <th>ODATEDW</th>\n",
       "      <th>OSOURCE</th>\n",
       "      <th>TCODE</th>\n",
       "      <th>STATE</th>\n",
       "      <th>ZIP</th>\n",
       "      <th>MAILCODE</th>\n",
       "      <th>PVASTATE</th>\n",
       "      <th>DOB</th>\n",
       "      <th>NOEXCH</th>\n",
       "      <th>RECINHSE</th>\n",
       "      <th>...</th>\n",
       "      <th>TARGET_D</th>\n",
       "      <th>HPHONE_D</th>\n",
       "      <th>RFA_2R</th>\n",
       "      <th>RFA_2F</th>\n",
       "      <th>RFA_2A</th>\n",
       "      <th>MDMAUD_R</th>\n",
       "      <th>MDMAUD_F</th>\n",
       "      <th>MDMAUD_A</th>\n",
       "      <th>CLUSTER2</th>\n",
       "      <th>GEOCODE2</th>\n",
       "    </tr>\n",
       "  </thead>\n",
       "  <tbody>\n",
       "    <tr>\n",
       "      <th>0</th>\n",
       "      <td>8901</td>\n",
       "      <td>GRI</td>\n",
       "      <td>0</td>\n",
       "      <td>IL</td>\n",
       "      <td>61081</td>\n",
       "      <td></td>\n",
       "      <td></td>\n",
       "      <td>3712</td>\n",
       "      <td>0</td>\n",
       "      <td></td>\n",
       "      <td>...</td>\n",
       "      <td>0.0</td>\n",
       "      <td>0</td>\n",
       "      <td>L</td>\n",
       "      <td>4</td>\n",
       "      <td>E</td>\n",
       "      <td>X</td>\n",
       "      <td>X</td>\n",
       "      <td>X</td>\n",
       "      <td>39.0</td>\n",
       "      <td>C</td>\n",
       "    </tr>\n",
       "    <tr>\n",
       "      <th>1</th>\n",
       "      <td>9401</td>\n",
       "      <td>BOA</td>\n",
       "      <td>1</td>\n",
       "      <td>CA</td>\n",
       "      <td>91326</td>\n",
       "      <td></td>\n",
       "      <td></td>\n",
       "      <td>5202</td>\n",
       "      <td>0</td>\n",
       "      <td></td>\n",
       "      <td>...</td>\n",
       "      <td>0.0</td>\n",
       "      <td>0</td>\n",
       "      <td>L</td>\n",
       "      <td>2</td>\n",
       "      <td>G</td>\n",
       "      <td>X</td>\n",
       "      <td>X</td>\n",
       "      <td>X</td>\n",
       "      <td>1.0</td>\n",
       "      <td>A</td>\n",
       "    </tr>\n",
       "    <tr>\n",
       "      <th>2</th>\n",
       "      <td>9001</td>\n",
       "      <td>AMH</td>\n",
       "      <td>1</td>\n",
       "      <td>NC</td>\n",
       "      <td>27017</td>\n",
       "      <td></td>\n",
       "      <td></td>\n",
       "      <td>0</td>\n",
       "      <td>0</td>\n",
       "      <td></td>\n",
       "      <td>...</td>\n",
       "      <td>0.0</td>\n",
       "      <td>1</td>\n",
       "      <td>L</td>\n",
       "      <td>4</td>\n",
       "      <td>E</td>\n",
       "      <td>X</td>\n",
       "      <td>X</td>\n",
       "      <td>X</td>\n",
       "      <td>60.0</td>\n",
       "      <td>C</td>\n",
       "    </tr>\n",
       "    <tr>\n",
       "      <th>3</th>\n",
       "      <td>8701</td>\n",
       "      <td>BRY</td>\n",
       "      <td>0</td>\n",
       "      <td>CA</td>\n",
       "      <td>95953</td>\n",
       "      <td></td>\n",
       "      <td></td>\n",
       "      <td>2801</td>\n",
       "      <td>0</td>\n",
       "      <td></td>\n",
       "      <td>...</td>\n",
       "      <td>0.0</td>\n",
       "      <td>1</td>\n",
       "      <td>L</td>\n",
       "      <td>4</td>\n",
       "      <td>E</td>\n",
       "      <td>X</td>\n",
       "      <td>X</td>\n",
       "      <td>X</td>\n",
       "      <td>41.0</td>\n",
       "      <td>C</td>\n",
       "    </tr>\n",
       "    <tr>\n",
       "      <th>4</th>\n",
       "      <td>8601</td>\n",
       "      <td></td>\n",
       "      <td>0</td>\n",
       "      <td>FL</td>\n",
       "      <td>33176</td>\n",
       "      <td></td>\n",
       "      <td></td>\n",
       "      <td>2001</td>\n",
       "      <td>0</td>\n",
       "      <td>X</td>\n",
       "      <td>...</td>\n",
       "      <td>0.0</td>\n",
       "      <td>1</td>\n",
       "      <td>L</td>\n",
       "      <td>2</td>\n",
       "      <td>F</td>\n",
       "      <td>X</td>\n",
       "      <td>X</td>\n",
       "      <td>X</td>\n",
       "      <td>26.0</td>\n",
       "      <td>A</td>\n",
       "    </tr>\n",
       "  </tbody>\n",
       "</table>\n",
       "<p>5 rows × 481 columns</p>\n",
       "</div>"
      ],
      "text/plain": [
       "   ODATEDW OSOURCE  TCODE STATE    ZIP MAILCODE PVASTATE   DOB NOEXCH  \\\n",
       "0     8901     GRI      0    IL  61081                    3712      0   \n",
       "1     9401     BOA      1    CA  91326                    5202      0   \n",
       "2     9001     AMH      1    NC  27017                       0      0   \n",
       "3     8701     BRY      0    CA  95953                    2801      0   \n",
       "4     8601              0    FL  33176                    2001      0   \n",
       "\n",
       "  RECINHSE  ... TARGET_D HPHONE_D RFA_2R RFA_2F RFA_2A MDMAUD_R  MDMAUD_F  \\\n",
       "0           ...      0.0        0      L      4      E        X         X   \n",
       "1           ...      0.0        0      L      2      G        X         X   \n",
       "2           ...      0.0        1      L      4      E        X         X   \n",
       "3           ...      0.0        1      L      4      E        X         X   \n",
       "4        X  ...      0.0        1      L      2      F        X         X   \n",
       "\n",
       "  MDMAUD_A CLUSTER2 GEOCODE2  \n",
       "0        X     39.0        C  \n",
       "1        X      1.0        A  \n",
       "2        X     60.0        C  \n",
       "3        X     41.0        C  \n",
       "4        X     26.0        A  \n",
       "\n",
       "[5 rows x 481 columns]"
      ]
     },
     "execution_count": 62,
     "metadata": {},
     "output_type": "execute_result"
    }
   ],
   "source": [
    "data2.head()"
   ]
  },
  {
   "cell_type": "markdown",
   "id": "97e85a09",
   "metadata": {},
   "source": [
    "### Let's get back to WEALTH1"
   ]
  },
  {
   "cell_type": "code",
   "execution_count": 64,
   "id": "63c7e3d4",
   "metadata": {},
   "outputs": [
    {
     "name": "stdout",
     "output_type": "stream",
     "text": [
      "ODATEDW     0.062001\n",
      "TCODE      -0.006437\n",
      "DOB         0.121114\n",
      "AGE        -0.112801\n",
      "NUMCHLD     0.025711\n",
      "              ...   \n",
      "TARGET_B    0.011249\n",
      "TARGET_D    0.024867\n",
      "HPHONE_D   -0.017367\n",
      "RFA_2F     -0.052808\n",
      "CLUSTER2   -0.669403\n",
      "Name: WEALTH1, Length: 407, dtype: float64\n"
     ]
    }
   ],
   "source": [
    "numerical2 = data2.select_dtypes(np.number)\n",
    "correlation_matrix = numerical2.corr()\n",
    "\n",
    "correlations = data2.corr()['WEALTH1']\n",
    "\n",
    "print(correlations)"
   ]
  },
  {
   "cell_type": "code",
   "execution_count": 95,
   "id": "16395993",
   "metadata": {
    "scrolled": true
   },
   "outputs": [
    {
     "name": "stdout",
     "output_type": "stream",
     "text": [
      "WEALTH1    1.000000\n",
      "WEALTH2    0.869431\n",
      "IC2        0.709275\n",
      "IC3        0.700671\n",
      "IC4        0.718460\n",
      "Name: WEALTH1, dtype: float64\n"
     ]
    }
   ],
   "source": [
    "print(correlations[abs(correlations)>0.7])"
   ]
  },
  {
   "cell_type": "code",
   "execution_count": 92,
   "id": "76878785",
   "metadata": {},
   "outputs": [],
   "source": [
    "import pandas as pd\n",
    "from sklearn.ensemble import RandomForestRegressor\n",
    "\n",
    "# Select the top 10 most correlated columns with 'WEALTH1'\n",
    "top_10_columns = data2.corr()['WEALTH1'].abs().nlargest(11).index.tolist()[1:]\n",
    "\n",
    "# Create a new DataFrame with the selected columns and rows where 'WEALTH1' is not null\n",
    "data2_subset = data2[top_10_columns + ['WEALTH1']].dropna()\n",
    "\n",
    "# Separate the features (X) and target (y)\n",
    "X = data2_subset[top_10_columns]\n",
    "y = data2_subset['WEALTH1']\n",
    "\n",
    "# Train a random forest regressor model\n",
    "model = RandomForestRegressor().fit(X, y)\n",
    "\n",
    "# Select rows where 'WEALTH1' is null\n",
    "data2_nulls = data2[data2['WEALTH1'].isnull()][top_10_columns]\n",
    "\n",
    "# Handle missing values in data2_nulls by imputing with column means\n",
    "data2_nulls = data2_nulls.fillna(data2_nulls.mean())\n",
    "\n",
    "# Predict the missing values using the trained model\n",
    "predictions = model.predict(data2_nulls)\n",
    "\n",
    "# Round the predictions to the nearest whole number\n",
    "predictions = predictions.round().astype(int)\n",
    "\n",
    "# Update the 'WEALTH1' column with the predicted values\n",
    "data2.loc[data2['WEALTH1'].isnull(), 'WEALTH1'] = predictions"
   ]
  },
  {
   "cell_type": "markdown",
   "id": "55bef8b6",
   "metadata": {},
   "source": [
    "## Conclusions"
   ]
  },
  {
   "cell_type": "markdown",
   "id": "42dea543",
   "metadata": {},
   "source": [
    "<div class=\"alert alert-success\">\n",
    "    Basically, for the column GEOCODE2 we kept the style it had, using U (Unknown) as the value for the NaNs and the empty values, and for DMA, MSA and ADI codes we replaced these values with '0'. However, regarding column WEALTH1 we predicted the missing values using RandomForestRegressor.\n",
    "</div>"
   ]
  },
  {
   "cell_type": "code",
   "execution_count": 98,
   "id": "c08ca879",
   "metadata": {
    "scrolled": true
   },
   "outputs": [
    {
     "data": {
      "text/plain": [
       "5.0    17438\n",
       "6.0    12444\n",
       "4.0    11227\n",
       "7.0    10694\n",
       "9.0     9442\n",
       "8.0     9296\n",
       "3.0     9277\n",
       "2.0     7178\n",
       "1.0     5262\n",
       "0.0     3154\n",
       "Name: WEALTH1, dtype: int64"
      ]
     },
     "execution_count": 98,
     "metadata": {},
     "output_type": "execute_result"
    }
   ],
   "source": [
    "data2.WEALTH1.value_counts()"
   ]
  },
  {
   "cell_type": "code",
   "execution_count": 100,
   "id": "e77c1aed",
   "metadata": {},
   "outputs": [
    {
     "data": {
      "text/plain": [
       "0"
      ]
     },
     "execution_count": 100,
     "metadata": {},
     "output_type": "execute_result"
    }
   ],
   "source": [
    "data2.WEALTH1.isna().sum()"
   ]
  }
 ],
 "metadata": {
  "kernelspec": {
   "display_name": "Python 3 (ipykernel)",
   "language": "python",
   "name": "python3"
  },
  "language_info": {
   "codemirror_mode": {
    "name": "ipython",
    "version": 3
   },
   "file_extension": ".py",
   "mimetype": "text/x-python",
   "name": "python",
   "nbconvert_exporter": "python",
   "pygments_lexer": "ipython3",
   "version": "3.9.13"
  }
 },
 "nbformat": 4,
 "nbformat_minor": 5
}
